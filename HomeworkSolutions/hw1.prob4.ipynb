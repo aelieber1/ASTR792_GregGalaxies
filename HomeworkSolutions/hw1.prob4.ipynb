{
 "cells": [
  {
   "cell_type": "markdown",
   "metadata": {},
   "source": [
    "# Solution for ASTR 792, Spring 2024, HW1, problem 4\n",
    "\n",
    "Compute the comoving volume in the two intervals 0.05<z<1 and 1<z<2 that is contained within a field whose solid angle is 0.25 deg2.  Assume $\\Omega_m=0.3$, $\\Omega_\\Lambda=0.7$ and $h=0.7$.  I want you to write a program to solve this problem by numerically integrating E(z).  Don’t use the astropy.cosmology package nor should you use Ned Wright’s cosmology calculator.  You may want to refer to “Distance Measures in Cosmology” by Hogg for an alternate formulation of the Volume element.\n",
    "\n",
    "I will use the notation from Hogg for $H(z) = H_0 E(z)$\n"
   ]
  },
  {
   "cell_type": "code",
   "execution_count": 1,
   "metadata": {},
   "outputs": [],
   "source": [
    "import numpy as np\n",
    "from astropy import units as u"
   ]
  },
  {
   "cell_type": "code",
   "execution_count": 58,
   "metadata": {},
   "outputs": [],
   "source": [
    "#fucntion to compute DH from Hogg eq. 4\n",
    "def D_H(h=0.7):\n",
    "    dh = 3000. / h  #in Gpc\n",
    "    return(dh)\n",
    "\n",
    "#function to compute E(z) from Hogg eq. 14\n",
    "def E_z(z, omega_m=0.3, omega_lam=0.7, omega_k=0.0):\n",
    "    ez = np.sqrt(omega_m * (1+z)**3 + omega_lam)\n",
    "    return(ez)  \n",
    "    \n",
    "#function to do the integral of 1/E(z) from Hogg eq. 15\n",
    "def D_C(z, omega_m=0.3, omega_lam=0.7, omega_k=0.0, h=0.7):\n",
    "    #generate an array of redshifts out to the redshift of interest\n",
    "    zint = np.linspace(0.0, z, num=100)\n",
    "\n",
    "    #this is E_z evaluated over a range of redshifts\n",
    "    yint = 1./E_z(zint, omega_m=omega_m, omega_lam=omega_lam, omega_k=omega_k)\n",
    "    \n",
    "    #evaluate the integral for Hogg eq. 15\n",
    "    int_dc = D_H(h=h) * np.trapz(yint,x=zint)\n",
    "\n",
    "    return(int_dc)\n",
    "\n",
    "def D_A(z, omega_m=0.3, omega_lam=0.7, omega_k=0.0, h=0.7):\n",
    "    #compute the angular diameter distance at a given redshift\n",
    "    #assume Omega_k = 0\n",
    "    #evaluate the co-moving transverse distance for a given redshift and hubbly constant using Hogg eq. 16\n",
    "    D_M = D_C(z, omega_m=omega_m, omega_lam=omega_lam, omega_k=omega_k, h=h)\n",
    "    D_A = D_M / (1+z)\n",
    "    \n",
    "    return(D_A)\n",
    "    \n",
    "def dV_c(z, omega_m=0.3, omega_lam=0.7, omega_k=0.0, h=0.7):\n",
    "    #compute the comoving volume element using Hogg eq. 28\n",
    "    dVc = D_H(h=h) * (1+z)**2 * D_A**2 / E_z\n",
    "    return(dVc)\n",
    "\n",
    "def SA(a_sqdeg):\n",
    "    #compute the solid angle in steradians from that in square degrees\n",
    "    #the side of a square with the area\n",
    "    degside = np.sqrt(a_sqdeg)\n",
    "    #convert to rad\n",
    "    rad = degside * np.pi / 180.\n",
    "    #convert to steradian\n",
    "    sa = rad**2\n",
    "    return(sa)\n",
    "\n",
    "def V_c(z1, z2, a_sqdeg, omega_m = 0.3, omega_lam=0.7, omega_k=0.0, h=0.7):\n",
    "    '''\n",
    "    calcualte the volume element between two redshifts (z1,z2) by integrating the volume element\n",
    "    out to each redshift and taking the difference between the total volumes to the two redshifts.  \n",
    "    Then multiply that volume, which is over the whole sky by the solid angle of the survey to get \n",
    "    the volume.\n",
    "    \n",
    "    a_sqdeg is the solid angle in square degrees.\n",
    "    \n",
    "    '''\n",
    "    #the redshift arrays for the two integrals\n",
    "    zint1 = np.linspace(0.0, z1, num=100)\n",
    "    zint2 = np.linspace(0.0, z2, num=100)\n",
    "    \n",
    "    #do first for z1.  For compactness I am not going to give the cosmological parameters since I'm \n",
    "    #just using the standard cosmology\n",
    "    #these return the volumes per steradian\n",
    "    integrand1 = D_H(h=h) * (1+zint1)**2 * D_A(zint1)**2 / E_z(zint1)\n",
    "    V1dom = np.trapz(integrand1, x=zint1)\n",
    "    \n",
    "    integrand2 = D_H(h=h) * (1+zint2)**2 * D_A(zint2)**2 / E_z(zint2)\n",
    "    V2dom = np.trapz(integrand2, x=zint2)\n",
    "    \n",
    "    Vdiff = V2dom - V1dom\n",
    "    \n",
    "    #print('D_A = ',D_A(z1),D_A(z2))\n",
    "    \n",
    "    print(\"V2 = \",V2dom, \" V1 = \", V1dom, \" Vdiff = \", Vdiff)\n",
    "\n",
    "    \n",
    "    #take the difference of the volumes over the whole sky and then \n",
    "    #V = 1.0 * Vdiff  #this is in the same units as D_H\n",
    "    V = SA(a_sqdeg) * Vdiff  #this is in the same units as D_H\n",
    "    return(V)\n",
    "    "
   ]
  },
  {
   "cell_type": "code",
   "execution_count": 77,
   "metadata": {},
   "outputs": [
    {
     "name": "stdout",
     "output_type": "stream",
     "text": [
      "V2 =  12045939938.777102  V1 =  2250254398.8190312  Vdiff =  9795685539.95807\n",
      "Enclosed co-moving volume between z= 0.50 and z= 1.00 is 7.5e+05 Mpc^3\n",
      "V2 =  46423648044.32488  V1 =  12045939938.777102  Vdiff =  34377708105.54778\n",
      "Enclosed co-moving volume between z= 1.00 and z= 2.00 is 2.6e+06 Mpc^3\n"
     ]
    }
   ],
   "source": [
    "z1=0.5\n",
    "z2=1.0\n",
    "a_sqdeg = 0.25   #the area of the survey in square degrees.\n",
    "Vc = V_c(z1, z2, a_sqdeg)\n",
    "print('Enclosed co-moving volume between z=%5.2f and z=%5.2f is %6.1e Mpc^3' % (z1, z2, Vc ))\n",
    "\n",
    "z1=1.0\n",
    "z2=2.0\n",
    "a_sqdeg = 0.25   #the area of the survey in square degrees.\n",
    "Vc = V_c(z1, z2, a_sqdeg)\n",
    "print('Enclosed co-moving volume between z=%5.2f and z=%5.2f is %6.1e Mpc^3' % (z1, z2, Vc ))"
   ]
  },
  {
   "cell_type": "code",
   "execution_count": 83,
   "metadata": {},
   "outputs": [
    {
     "name": "stdout",
     "output_type": "stream",
     "text": [
      "Vdiff =  34306165798.575233 Mpc3\n",
      "V in FOV =  2612563.927084254 Mpc3\n"
     ]
    }
   ],
   "source": [
    "#check my answer using the astropy.cosmology package at https://docs.astropy.org/en/stable/api/astropy.cosmology.LambdaCDM.html#astropy.cosmology.LambdaCDM.comoving_volume\n",
    "from astropy import cosmology \n",
    "fl = cosmology.LambdaCDM(70.0, 0.3, 0.7)\n",
    "V1 = fl.comoving_volume(z1) / (4*np.pi)\n",
    "V2 = fl.comoving_volume(z2) / (4*np.pi)\n",
    "Vdiff = V2 - V1\n",
    "print('Vdiff = ',Vdiff)\n",
    "Vc = Vdiff * SA(a_sqdeg)\n",
    "print('V in FOV = ',Vc)"
   ]
  }
 ],
 "metadata": {
  "kernelspec": {
   "display_name": "stenv",
   "language": "python",
   "name": "stenv"
  },
  "language_info": {
   "codemirror_mode": {
    "name": "ipython",
    "version": 3
   },
   "file_extension": ".py",
   "mimetype": "text/x-python",
   "name": "python",
   "nbconvert_exporter": "python",
   "pygments_lexer": "ipython3",
   "version": "3.9.16"
  }
 },
 "nbformat": 4,
 "nbformat_minor": 4
}
